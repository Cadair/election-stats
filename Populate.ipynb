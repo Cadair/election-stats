{
 "cells": [
  {
   "cell_type": "code",
   "execution_count": null,
   "metadata": {
    "collapsed": false
   },
   "outputs": [],
   "source": [
    "from models import *\n",
    "import pandas as pd\n",
    "import glob"
   ]
  },
  {
   "cell_type": "code",
   "execution_count": null,
   "metadata": {
    "collapsed": false
   },
   "outputs": [],
   "source": [
    "!rm database.db"
   ]
  },
  {
   "cell_type": "code",
   "execution_count": null,
   "metadata": {
    "collapsed": false
   },
   "outputs": [],
   "source": [
    "print db\n",
    "db.create_all()"
   ]
  },
  {
   "cell_type": "markdown",
   "metadata": {},
   "source": [
    "Constituency : models.Constituency\n",
    "\n",
    "Results : models.Results\n",
    "\n",
    "Party : model.Party\n",
    "\n",
    "Candidates : models.Candidates"
   ]
  },
  {
   "cell_type": "code",
   "execution_count": null,
   "metadata": {
    "collapsed": false
   },
   "outputs": [],
   "source": [
    "db.session.rollback()"
   ]
  },
  {
   "cell_type": "code",
   "execution_count": null,
   "metadata": {
    "collapsed": true
   },
   "outputs": [],
   "source": [
    "# JSON Files for Boundaries.\n",
    "files = glob.glob('./election_json/boundaries/*.json')\n",
    "files.sort()"
   ]
  },
  {
   "cell_type": "code",
   "execution_count": null,
   "metadata": {
    "collapsed": false
   },
   "outputs": [],
   "source": [
    "# XLS File with MP names.\n",
    "data_1 = './current_mp.xls'\n",
    "# Fetch names, sort and reindex.\n",
    "names = pd.read_excel(data_1)\n",
    "names = names.sort(columns=u'Constituency') # Sorted into constutuency order\n",
    "names.index = range(0,len(names))"
   ]
  },
  {
   "cell_type": "code",
   "execution_count": null,
   "metadata": {
    "collapsed": false
   },
   "outputs": [],
   "source": [
    "# XLS File with Constituency voting 2010.\n",
    "\"\"\"\n",
    "So this short piece of code reads the excel file, then strips out all the rows that have a NaN in the first column.\n",
    "This leaves us, for each constituency, the name, the total amount registered and finally the last General election winner\n",
    "(i.e. three rows each). Then a nice clean reindex for sanity.\n",
    "\n",
    "Then the plan is simiple. To create a series of N by 1 data frames for easy indexing for the database.\n",
    "\"\"\"\n",
    "# Prelim work\n",
    "data_2 = './constituency.xls'\n",
    "cons = pd.read_excel(data_2)\n",
    "cons = cons[pd.notnull(cons['General election results 2010'])]\n",
    "cons.index = range(0,len(cons))\n",
    "idx_arr = range(1,len(files)*3,3)\n",
    "# Turnout Percantage\n",
    "turnout = cons['Turnout'][pd.notnull(cons['Turnout'])]\n",
    "turnout.index = range(0,len(turnout))\n",
    "# Number of votes for the winning candidate\n",
    "votes = cons['Votes'][idx_arr]\n",
    "votes.index = range(0,len(votes))\n",
    "# Perctange Share for the winning candidate\n",
    "share = cons['Share'][idx_arr]\n",
    "share.index = range(0,len(share))\n",
    "# Total number of registered votes for each con\n",
    "total = cons['General election results 2010'][idx_arr]\n",
    "total.index = range(0,len(total))\n",
    "# Percentage share\n",
    "share = cons['Share'][idx_arr]"
   ]
  },
  {
   "cell_type": "code",
   "execution_count": null,
   "metadata": {
    "collapsed": false,
    "scrolled": true
   },
   "outputs": [],
   "source": [
    "for idx, afile  in enumerate(files):\n",
    "    # Basic Constituency data\n",
    "    con = Constituency(name=afile.rsplit('/')[-1].rsplit('.')[0])\n",
    "    con.numvotes = total[idx] # Total number of registered votes at last general election\n",
    "    # Results\n",
    "    con.Results = Results\n",
    "    con.Results.turnout = turnout[idx] # Percentage Turnout\n",
    "    con.Results.year = '2010-5-6'\n",
    "    # Candidates\n",
    "    con.Candidates = Candidates\n",
    "    con.Candidates.MPname = names['First name'][idx] + ' ' + names['Last name'][idx]\n",
    "    con.Candidates.numvotes = votes[idx]\n",
    "    con.Candidates.MPparty = Party\n",
    "    con.Candidates.MPparty.name = names['Party'][idx]\n",
    "    con.Candidates.share = share[idx]\n",
    "    db.session.add(con)"
   ]
  },
  {
   "cell_type": "code",
   "execution_count": null,
   "metadata": {
    "collapsed": true
   },
   "outputs": [],
   "source": []
  }
 ],
 "metadata": {
  "kernelspec": {
   "display_name": "Python 2",
   "language": "python",
   "name": "python2"
  },
  "language_info": {
   "codemirror_mode": {
    "name": "ipython",
    "version": 2
   },
   "file_extension": ".py",
   "mimetype": "text/x-python",
   "name": "python",
   "nbconvert_exporter": "python",
   "pygments_lexer": "ipython2",
   "version": "2.7.9"
  }
 },
 "nbformat": 4,
 "nbformat_minor": 0
}
