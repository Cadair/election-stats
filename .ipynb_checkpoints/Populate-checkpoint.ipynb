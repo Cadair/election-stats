{
 "cells": [
  {
   "cell_type": "code",
   "execution_count": 8,
   "metadata": {
    "collapsed": true
   },
   "outputs": [],
   "source": [
    "from models import *\n",
    "import os\n",
    "import glob\n",
    "import json"
   ]
  },
  {
   "cell_type": "code",
   "execution_count": 9,
   "metadata": {
    "collapsed": false
   },
   "outputs": [],
   "source": [
    "!rm database.db"
   ]
  },
  {
   "cell_type": "code",
   "execution_count": 10,
   "metadata": {
    "collapsed": false
   },
   "outputs": [
    {
     "name": "stdout",
     "output_type": "stream",
     "text": [
      "<SQLAlchemy engine='sqlite:////home/nabobalis/GitRepos/election-stats/database.db'>\n"
     ]
    }
   ],
   "source": [
    "print db\n",
    "db.create_all()"
   ]
  },
  {
   "cell_type": "markdown",
   "metadata": {},
   "source": [
    "Constituency : models.Constituency\n",
    "\n",
    "Results : models.Results\n",
    "\n",
    "Party : model.Party\n",
    "\n",
    "Candidates : models.Candidates"
   ]
  },
  {
   "cell_type": "code",
   "execution_count": 11,
   "metadata": {
    "collapsed": false
   },
   "outputs": [],
   "source": [
    "db.session.rollback()"
   ]
  },
  {
   "cell_type": "code",
   "execution_count": 12,
   "metadata": {
    "collapsed": true
   },
   "outputs": [],
   "source": [
    "files = glob.glob('./election_json/boundaries/*.json')\n",
    "files.sort()"
   ]
  },
  {
   "cell_type": "code",
   "execution_count": 13,
   "metadata": {
    "collapsed": false
   },
   "outputs": [],
   "source": [
    "for afile in files:\n",
    "    #Basic Name\n",
    "    js = json.load(open(afile))\n",
    "    name = str(js['properties']['PCON13NM']).lower()\n",
    "    geo = str(js['geometry'])\n",
    "    con = Constituency(name=name)\n",
    "    con.boundary = geo\n",
    "    #Results\n",
    "    con.Results = Results\n",
    "    con.Results.numvotes = \n",
    "    con.Results.turnout =\n",
    "    con.Results.year =\n",
    "    # Candidates\n",
    "    con.Candidates = Candidates\n",
    "    con.Candidates.Party = Party\n",
    "    con.Candidates.Party.name = ''\n",
    "    db.session.add(con)"
   ]
  },
  {
   "cell_type": "code",
   "execution_count": 14,
   "metadata": {
    "collapsed": false
   },
   "outputs": [],
   "source": [
    "db.session.commit()"
   ]
  }
 ],
 "metadata": {
  "kernelspec": {
   "display_name": "Python 2",
   "language": "python",
   "name": "python2"
  },
  "language_info": {
   "codemirror_mode": {
    "name": "ipython",
    "version": 2
   },
   "file_extension": ".py",
   "mimetype": "text/x-python",
   "name": "python",
   "nbconvert_exporter": "python",
   "pygments_lexer": "ipython2",
   "version": "2.7.9"
  }
 },
 "nbformat": 4,
 "nbformat_minor": 0
}
